{
 "cells": [
  {
   "cell_type": "code",
   "execution_count": null,
   "metadata": {},
   "outputs": [],
   "source": [
    "%matplotlib inline"
   ]
  },
  {
   "cell_type": "code",
   "execution_count": null,
   "metadata": {},
   "outputs": [],
   "source": [
    "import pandas as pd\n",
    "import numpy as np\n",
    "import sklearn.pipeline as pl\n",
    "import sklearn.metrics as sx\n",
    "import sklearn.preprocessing as sp\n",
    "import sklearn.model_selection as ms \n",
    "import matplotlib.pyplot as plt\n",
    "from sklearn.neighbors import KNeighborsClassifier"
   ]
  },
  {
   "cell_type": "code",
   "execution_count": null,
   "metadata": {},
   "outputs": [],
   "source": [
    "def splitYX(df):\n",
    "    return df.loc[:,df.columns[0]], df.loc[: ,df.columns[1:]]\n",
    "y, X = splitYX(pd.read_csv(\"./wine.data\", header=None))"
   ]
  },
  {
   "cell_type": "code",
   "execution_count": null,
   "metadata": {},
   "outputs": [],
   "source": [
    "def gen_plain_knn(n=5):\n",
    "    return pl.Pipeline(steps=[('knn', KNeighborsClassifier(n_neighbors=n))])\n",
    "\n",
    "def gen_preprocessed_knn(n=5):\n",
    "    return pl.Pipeline(steps=[('scale', sp.StandardScaler()) ,('knn', KNeighborsClassifier(n_neighbors=n))])\n",
    "\n",
    "def cl_score(cl, X, y, scoring='accuracy'):\n",
    "    return np.mean(ms.cross_val_score(cl, X, y, n_jobs=4, \n",
    "                                     scoring=scoring, cv=ms.KFold(n_splits=5, random_state=42, shuffle=True)))"
   ]
  },
  {
   "cell_type": "code",
   "execution_count": null,
   "metadata": {},
   "outputs": [],
   "source": [
    "knns = range(1,51)"
   ]
  },
  {
   "cell_type": "code",
   "execution_count": null,
   "metadata": {},
   "outputs": [],
   "source": [
    "score_plain_knn = [cl_score(gen_plain_knn(n=n), X, y) for n in knns]\n",
    "score_preprocessed_knn = [cl_score(gen_preprocessed_knn(n=n), X, y) for n in knns]"
   ]
  },
  {
   "cell_type": "code",
   "execution_count": null,
   "metadata": {},
   "outputs": [],
   "source": [
    "\"%d, %.2f\" % max(zip(knns, score_plain_knn), key = lambda z: z[1])"
   ]
  },
  {
   "cell_type": "code",
   "execution_count": null,
   "metadata": {},
   "outputs": [],
   "source": [
    "\"%d, %.2f\" % max(zip(knns, score_preprocessed_knn), key = lambda z: z[1])"
   ]
  },
  {
   "cell_type": "code",
   "execution_count": null,
   "metadata": {},
   "outputs": [],
   "source": [
    "plt.plot(knns, score_plain_knn, label='plain knn')\n",
    "plt.plot(knns, score_preprocessed_knn, label='preprocessed')\n",
    "plt.legend()\n",
    "pass"
   ]
  },
  {
   "cell_type": "markdown",
   "metadata": {},
   "source": [
    "## Assignment 2.2"
   ]
  },
  {
   "cell_type": "code",
   "execution_count": null,
   "metadata": {},
   "outputs": [],
   "source": [
    "import sklearn.datasets\n",
    "from sklearn.neighbors import KNeighborsRegressor"
   ]
  },
  {
   "cell_type": "code",
   "execution_count": null,
   "metadata": {},
   "outputs": [],
   "source": [
    "data_obj = sklearn.datasets.load_boston()"
   ]
  },
  {
   "cell_type": "code",
   "execution_count": null,
   "metadata": {},
   "outputs": [],
   "source": [
    "metric_p = np.linspace(1, 10, num=200)"
   ]
  },
  {
   "cell_type": "code",
   "execution_count": null,
   "metadata": {},
   "outputs": [],
   "source": [
    "X = data_obj.data\n",
    "y = data_obj.target"
   ]
  },
  {
   "cell_type": "code",
   "execution_count": null,
   "metadata": {},
   "outputs": [],
   "source": [
    "def metric_score(p):\n",
    "    cl = pl.Pipeline(steps=[('scale', sp.StandardScaler()), ('knn_reg', KNeighborsRegressor(n_neighbors=5, weights='distance', p = p))])\n",
    "    return cl_score(cl, X, y, scoring='neg_mean_squared_error')"
   ]
  },
  {
   "cell_type": "code",
   "execution_count": null,
   "metadata": {},
   "outputs": [],
   "source": [
    "def nbh_score(n):\n",
    "    cl = pl.Pipeline(steps=[('scale', sp.StandardScaler()), ('knn_reg', KNeighborsRegressor(n_neighbors=n, weights='distance', p = 1))])\n",
    "    return cl_score(cl, X, y, scoring='neg_mean_squared_error')"
   ]
  },
  {
   "cell_type": "code",
   "execution_count": null,
   "metadata": {},
   "outputs": [],
   "source": [
    "s = [metric_score(p) for p in metric_p]"
   ]
  },
  {
   "cell_type": "code",
   "execution_count": null,
   "metadata": {},
   "outputs": [],
   "source": [
    "ns = [metric_score(n) for n in range(1,51)]"
   ]
  },
  {
   "cell_type": "code",
   "execution_count": null,
   "metadata": {},
   "outputs": [],
   "source": [
    "\"%d, %.1f\" % max(zip(metric_p, s), key=lambda z: z[1])"
   ]
  },
  {
   "cell_type": "code",
   "execution_count": null,
   "metadata": {},
   "outputs": [],
   "source": [
    "plt.plot(metric_p, s, label='metric')\n",
    "plt.legend()\n",
    "pass"
   ]
  },
  {
   "cell_type": "code",
   "execution_count": null,
   "metadata": {},
   "outputs": [],
   "source": [
    "plt.plot(range(1,51), ns, label='best neighbours')\n",
    "plt.legend()\n",
    "pass"
   ]
  }
 ],
 "metadata": {
  "kernelspec": {
   "display_name": "Python 3",
   "language": "python",
   "name": "python3"
  },
  "language_info": {
   "codemirror_mode": {
    "name": "ipython",
    "version": 3
   },
   "file_extension": ".py",
   "mimetype": "text/x-python",
   "name": "python",
   "nbconvert_exporter": "python",
   "pygments_lexer": "ipython3",
   "version": "3.6.5"
  }
 },
 "nbformat": 4,
 "nbformat_minor": 2
}
