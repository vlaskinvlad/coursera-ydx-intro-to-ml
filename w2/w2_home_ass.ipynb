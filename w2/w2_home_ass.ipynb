{
 "cells": [
  {
   "cell_type": "code",
   "execution_count": null,
   "metadata": {},
   "outputs": [],
   "source": [
    "import pandas as pd\n",
    "import sklearn.preprocessing as sp\n",
    "import sklearn.metrics as sx\n",
    "import sklearn.linear_model as slm\n",
    "import sklearn.pipeline as pl"
   ]
  },
  {
   "cell_type": "code",
   "execution_count": null,
   "metadata": {},
   "outputs": [],
   "source": [
    "df_train = pd.read_csv(\"w2.2_perceptron-train.csv\", header=None)\n",
    "df_test = pd.read_csv(\"w2.2_perceptron-test.csv\", header=None)"
   ]
  },
  {
   "cell_type": "code",
   "execution_count": null,
   "metadata": {},
   "outputs": [],
   "source": [
    "def splitYX(df):\n",
    "    return df.loc[:,df.columns[0]], df.loc[: ,df.columns[1:]]\n",
    "ytest, Xtest = splitYX(df_test)\n",
    "ytrain, Xtrain = splitYX(df_train)"
   ]
  },
  {
   "cell_type": "code",
   "execution_count": null,
   "metadata": {},
   "outputs": [],
   "source": [
    "p1 = pl.Pipeline(steps=[('Pereptron', slm.Perceptron(random_state=241))])\n",
    "p2 = pl.Pipeline(steps=[('std_scaler', sp.StandardScaler()),\n",
    "                        ('Perceptron', slm.Perceptron(random_state=241))])"
   ]
  },
  {
   "cell_type": "code",
   "execution_count": null,
   "metadata": {},
   "outputs": [],
   "source": [
    "def cl_score(cl, Xtr, ytr, Xte, yte):\n",
    "    z = cl.fit(Xtr, ytr).predict(Xte)\n",
    "    return sx.accuracy_score(yte, z)"
   ]
  },
  {
   "cell_type": "code",
   "execution_count": null,
   "metadata": {},
   "outputs": [],
   "source": [
    "s1 = cl_score(p1, Xtrain, ytrain, Xtest, ytest)\n",
    "s2 = cl_score(p2, Xtrain, ytrain, Xtest, ytest)\n",
    "\"%.3f\" % (s2 - s1)"
   ]
  }
 ],
 "metadata": {
  "kernelspec": {
   "display_name": "Python 3",
   "language": "python",
   "name": "python3"
  },
  "language_info": {
   "codemirror_mode": {
    "name": "ipython",
    "version": 3
   },
   "file_extension": ".py",
   "mimetype": "text/x-python",
   "name": "python",
   "nbconvert_exporter": "python",
   "pygments_lexer": "ipython3",
   "version": "3.6.5"
  }
 },
 "nbformat": 4,
 "nbformat_minor": 2
}
