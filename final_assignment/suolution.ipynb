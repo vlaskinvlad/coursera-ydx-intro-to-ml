{
 "cells": [
  {
   "cell_type": "code",
   "execution_count": 8,
   "metadata": {},
   "outputs": [],
   "source": [
    "import sklearn.preprocessing as skp\n",
    "import sklearn.model_selection as ms\n",
    "import sklearn.metrics as sx\n",
    "import sklearn.linear_model as skl\n",
    "from sklearn import ensemble\n",
    "from sklearn import feature_selection as skf\n",
    "from sklearn import pipeline as pp\n",
    "import pandas as pd\n",
    "import numpy as np\n",
    "import pylab as pl\n",
    "import bz2"
   ]
  },
  {
   "cell_type": "code",
   "execution_count": 233,
   "metadata": {},
   "outputs": [],
   "source": [
    "df = pd.read_csv(\"./features.csv\", index_col='match_id')\n",
    "df_holdout = pd.read_csv(\"./features_test.csv\", index_col='match_id')"
   ]
  },
  {
   "cell_type": "markdown",
   "metadata": {},
   "source": [
    "`1.` Считайте таблицу с признаками из файла features.csv с помощью кода, приведенного выше. Удалите признаки, связанные с итогами матча (они помечены в описании данных как отсутствующие в тестовой выборке)."
   ]
  },
  {
   "cell_type": "code",
   "execution_count": 234,
   "metadata": {},
   "outputs": [
    {
     "name": "stdout",
     "output_type": "stream",
     "text": [
      "Target columns are: ['duration', 'radiant_win', 'tower_status_radiant', 'tower_status_dire', 'barracks_status_radiant', 'barracks_status_dire'] \n",
      "\n",
      "First 10 feature columns are: ['start_time', 'lobby_type', 'r1_hero', 'r1_level', 'r1_xp', 'r1_gold', 'r1_lh', 'r1_kills', 'r1_deaths', 'r1_items'] ...\n",
      "\n"
     ]
    }
   ],
   "source": [
    "target_cols = [c for c in df.columns if c not in df_holdout.columns ]\n",
    "feature_cols = [c for c in df.columns if c in df_holdout.columns ]\n",
    "print(\"Target columns are: %s \\n\" % target_cols)\n",
    "print(\"First 10 feature columns are: %s ...\\n\" % feature_cols[:10])"
   ]
  },
  {
   "cell_type": "markdown",
   "metadata": {},
   "source": [
    "We're going to separate target and feature columns using `target_cols` and `feature_cols` lists\n",
    "\n",
    "---"
   ]
  },
  {
   "cell_type": "markdown",
   "metadata": {},
   "source": [
    "`2.`Проверьте выборку на наличие пропусков с помощью функции count(), которая для каждого столбца показывает число заполненных значений. Много ли пропусков в данных? Запишите названия признаков, имеющих пропуски, и попробуйте для любых двух из них дать обоснование, почему их значения могут быть пропущены."
   ]
  },
  {
   "cell_type": "code",
   "execution_count": 235,
   "metadata": {},
   "outputs": [
    {
     "name": "stdout",
     "output_type": "stream",
     "text": [
      "Название фичей, которые имеют  пропуски: Index(['first_blood_time', 'first_blood_team', 'first_blood_player1',\n",
      "       'first_blood_player2', 'radiant_bottle_time', 'radiant_courier_time',\n",
      "       'radiant_flying_courier_time', 'radiant_first_ward_time',\n",
      "       'dire_bottle_time', 'dire_courier_time', 'dire_flying_courier_time',\n",
      "       'dire_first_ward_time'],\n",
      "      dtype='object') \n"
     ]
    }
   ],
   "source": [
    "counts = df.count()\n",
    "features_with_missing = counts[counts < counts.max()].index\n",
    "print(\"Название фичей, которые имеют  пропуски: %s \" % features_with_missing)"
   ]
  },
  {
   "cell_type": "code",
   "execution_count": 236,
   "metadata": {},
   "outputs": [
    {
     "data": {
      "text/html": [
       "<div>\n",
       "<style scoped>\n",
       "    .dataframe tbody tr th:only-of-type {\n",
       "        vertical-align: middle;\n",
       "    }\n",
       "\n",
       "    .dataframe tbody tr th {\n",
       "        vertical-align: top;\n",
       "    }\n",
       "\n",
       "    .dataframe thead th {\n",
       "        text-align: right;\n",
       "    }\n",
       "</style>\n",
       "<table border=\"1\" class=\"dataframe\">\n",
       "  <thead>\n",
       "    <tr style=\"text-align: right;\">\n",
       "      <th></th>\n",
       "      <th>first_blood_time</th>\n",
       "      <th>first_blood_team</th>\n",
       "      <th>duration</th>\n",
       "      <th>radiant_win</th>\n",
       "      <th>tower_status_radiant</th>\n",
       "      <th>tower_status_dire</th>\n",
       "      <th>barracks_status_radiant</th>\n",
       "      <th>barracks_status_dire</th>\n",
       "    </tr>\n",
       "    <tr>\n",
       "      <th>match_id</th>\n",
       "      <th></th>\n",
       "      <th></th>\n",
       "      <th></th>\n",
       "      <th></th>\n",
       "      <th></th>\n",
       "      <th></th>\n",
       "      <th></th>\n",
       "      <th></th>\n",
       "    </tr>\n",
       "  </thead>\n",
       "  <tbody>\n",
       "    <tr>\n",
       "      <th>3</th>\n",
       "      <td>NaN</td>\n",
       "      <td>NaN</td>\n",
       "      <td>1459</td>\n",
       "      <td>0</td>\n",
       "      <td>1920</td>\n",
       "      <td>2047</td>\n",
       "      <td>50</td>\n",
       "      <td>63</td>\n",
       "    </tr>\n",
       "    <tr>\n",
       "      <th>9</th>\n",
       "      <td>NaN</td>\n",
       "      <td>NaN</td>\n",
       "      <td>4079</td>\n",
       "      <td>1</td>\n",
       "      <td>1540</td>\n",
       "      <td>0</td>\n",
       "      <td>63</td>\n",
       "      <td>0</td>\n",
       "    </tr>\n",
       "    <tr>\n",
       "      <th>45</th>\n",
       "      <td>NaN</td>\n",
       "      <td>NaN</td>\n",
       "      <td>2338</td>\n",
       "      <td>0</td>\n",
       "      <td>1542</td>\n",
       "      <td>1972</td>\n",
       "      <td>51</td>\n",
       "      <td>63</td>\n",
       "    </tr>\n",
       "    <tr>\n",
       "      <th>51</th>\n",
       "      <td>NaN</td>\n",
       "      <td>NaN</td>\n",
       "      <td>3419</td>\n",
       "      <td>0</td>\n",
       "      <td>0</td>\n",
       "      <td>1792</td>\n",
       "      <td>0</td>\n",
       "      <td>48</td>\n",
       "    </tr>\n",
       "    <tr>\n",
       "      <th>86</th>\n",
       "      <td>NaN</td>\n",
       "      <td>NaN</td>\n",
       "      <td>3588</td>\n",
       "      <td>1</td>\n",
       "      <td>1844</td>\n",
       "      <td>0</td>\n",
       "      <td>63</td>\n",
       "      <td>0</td>\n",
       "    </tr>\n",
       "  </tbody>\n",
       "</table>\n",
       "</div>"
      ],
      "text/plain": [
       "          first_blood_time  first_blood_team  duration  radiant_win  \\\n",
       "match_id                                                              \n",
       "3                      NaN               NaN      1459            0   \n",
       "9                      NaN               NaN      4079            1   \n",
       "45                     NaN               NaN      2338            0   \n",
       "51                     NaN               NaN      3419            0   \n",
       "86                     NaN               NaN      3588            1   \n",
       "\n",
       "          tower_status_radiant  tower_status_dire  barracks_status_radiant  \\\n",
       "match_id                                                                     \n",
       "3                         1920               2047                       50   \n",
       "9                         1540                  0                       63   \n",
       "45                        1542               1972                       51   \n",
       "51                           0               1792                        0   \n",
       "86                        1844                  0                       63   \n",
       "\n",
       "          barracks_status_dire  \n",
       "match_id                        \n",
       "3                           63  \n",
       "9                            0  \n",
       "45                          63  \n",
       "51                          48  \n",
       "86                           0  "
      ]
     },
     "execution_count": 236,
     "metadata": {},
     "output_type": "execute_result"
    }
   ],
   "source": [
    "df.loc[pd.isna(df.first_blood_time),['first_blood_time', 'first_blood_team'] + target_cols].head(5)"
   ]
  },
  {
   "cell_type": "markdown",
   "metadata": {},
   "source": [
    "Рассмотрим пропуски в полях `'first_blood_time', 'first_blood_team'` - наличие пропуска в каком либо из полей означет что не было сделано ни одного 'фрага' за все время игры. То есть никакие герои не были убиты и отправлены в таверну.\n",
    "\n",
    "При этом видно, вто таргет переменные об ихсоде матча присутствуют и есть иничего не рашесходный результат матча.\n",
    "\n",
    "Можно сделать вывод что происходил один из двух сценариев:\n",
    "\n",
    "1. Одна из команд просто отсиживалась на базе, пока вторая просто ломала башни и трон.\n",
    "   Например это мог быть ничего не решающий или договорной матч.\n",
    "   Это происходит barracks_status одной из команд нулевой. \n",
    "   \n",
    "2. Либо обе команды ломали бараки друг другу, по разным направлениям, не отвлекаясь на \n",
    "   дуэли героев. Это происходит, когда значения tower_status или barracks_status не \n",
    "   нулевые у обоих команд.\n",
    "\n",
    "---"
   ]
  },
  {
   "cell_type": "markdown",
   "metadata": {},
   "source": [
    "`3.` Замените пропуски на нули с помощью функции fillna(). На самом деле этот способ является предпочтительным для логистической регрессии, поскольку он позволит пропущенному значению не вносить никакого вклада в предсказание. Для деревьев часто лучшим вариантом оказывается замена пропуска на очень большое или очень маленькое значение — в этом случае при построении разбиения вершины можно будет отправить объекты с пропусками в отдельную ветвь дерева. Также есть и другие подходы — например, замена пропуска на среднее значение признака. Мы не требуем этого в задании, но при желании попробуйте разные подходы к обработке пропусков и сравните их между собой."
   ]
  },
  {
   "cell_type": "code",
   "execution_count": 237,
   "metadata": {},
   "outputs": [],
   "source": [
    "df = df.fillna(0)\n",
    "df_holdout = df_holdout.fillna(0)"
   ]
  },
  {
   "cell_type": "markdown",
   "metadata": {},
   "source": [
    "---"
   ]
  },
  {
   "cell_type": "markdown",
   "metadata": {},
   "source": [
    "`4.` Какой столбец содержит целевую переменную? Запишите его название."
   ]
  },
  {
   "cell_type": "code",
   "execution_count": 238,
   "metadata": {},
   "outputs": [],
   "source": [
    "y_col = 'radiant_win'"
   ]
  },
  {
   "cell_type": "markdown",
   "metadata": {},
   "source": [
    "---"
   ]
  },
  {
   "cell_type": "markdown",
   "metadata": {},
   "source": [
    "`5.` Забудем, что в выборке есть категориальные признаки, и попробуем обучить градиентный бустинг над деревьями на имеющейся матрице \"объекты-признаки\". Зафиксируйте генератор разбиений для кросс-валидации по 5 блокам (KFold), не забудьте перемешать при этом выборку (shuffle=True), поскольку данные в таблице отсортированы по времени, и без перемешивания можно столкнуться с нежелательными эффектами при оценивании качества. Оцените качество градиентного бустинга (GradientBoostingClassifier) с помощью данной кросс-валидации, попробуйте при этом разное количество деревьев (как минимум протестируйте следующие значения для количества деревьев: 10, 20, 30). Долго ли настраивались классификаторы? Достигнут ли оптимум на испытанных значениях параметра n_estimators, или же качество, скорее всего, продолжит расти при дальнейшем его увеличении?"
   ]
  },
  {
   "cell_type": "code",
   "execution_count": 239,
   "metadata": {},
   "outputs": [
    {
     "name": "stdout",
     "output_type": "stream",
     "text": [
      "env: JOBLIB_TEMP_FOLDER=/tmp\n"
     ]
    }
   ],
   "source": [
    "%env JOBLIB_TEMP_FOLDER=/tmp"
   ]
  },
  {
   "cell_type": "code",
   "execution_count": 240,
   "metadata": {},
   "outputs": [],
   "source": [
    "X = df.loc[:, feature_cols].copy()\n",
    "y = df.loc[:, y_col].copy()"
   ]
  },
  {
   "cell_type": "markdown",
   "metadata": {},
   "source": [
    "Базовая версия Градиентного бустинга на 30 естиматорах"
   ]
  },
  {
   "cell_type": "code",
   "execution_count": 241,
   "metadata": {},
   "outputs": [
    {
     "name": "stdout",
     "output_type": "stream",
     "text": [
      "CPU times: user 944 ms, sys: 172 ms, total: 1.12 s\n",
      "Wall time: 28.4 s\n"
     ]
    }
   ],
   "source": [
    "%%time\n",
    "base_roc_aucs = ms.cross_val_score(ensemble.GradientBoostingClassifier(n_estimators=30), X, y, scoring='roc_auc',\n",
    "                   cv = ms.KFold(n_splits=5, shuffle=True), n_jobs=4)"
   ]
  },
  {
   "cell_type": "code",
   "execution_count": 243,
   "metadata": {},
   "outputs": [
    {
     "data": {
      "text/plain": [
       "0.6894046983162839"
      ]
     },
     "execution_count": 243,
     "metadata": {},
     "output_type": "execute_result"
    }
   ],
   "source": [
    "np.mean(base_roc_aucs)"
   ]
  },
  {
   "cell_type": "markdown",
   "metadata": {},
   "source": [
    "##### Базовая версия Градиентного бустинга на 30 естиматорах, заняля 29.1 c на 4х процессорах\n",
    "\n",
    "##### Средний roc_auc: 0.6894"
   ]
  },
  {
   "cell_type": "markdown",
   "metadata": {},
   "source": [
    "осуществим поиск оптимального количество классификаторов"
   ]
  },
  {
   "cell_type": "code",
   "execution_count": 108,
   "metadata": {},
   "outputs": [],
   "source": [
    "def xgb_set():\n",
    "    base_cl = ensemble.GradientBoostingClassifier()\n",
    "    grid = {'n_estimators': [10, 20, 30, 40, 50, 60, 70, 80, 90, 100]}\n",
    "    return base_cl, grid"
   ]
  },
  {
   "cell_type": "code",
   "execution_count": 109,
   "metadata": {},
   "outputs": [
    {
     "name": "stdout",
     "output_type": "stream",
     "text": [
      "CPU times: user 1min 4s, sys: 324 ms, total: 1min 5s\n",
      "Wall time: 4min 27s\n"
     ]
    }
   ],
   "source": [
    "%%time\n",
    "base_cl, param_grid = xgb_set()\n",
    "cl_grid  = ms.GridSearchCV(base_cl, param_grid, cv = ms.KFold(n_splits=5, shuffle=True),\n",
    "                           scoring='roc_auc', refit=True, n_jobs=8)\n",
    "cl_grid.fit(X, y)"
   ]
  },
  {
   "cell_type": "code",
   "execution_count": 192,
   "metadata": {},
   "outputs": [],
   "source": [
    "fi = pd.Series(index=X.columns, data=cl_grid.best_estimator_.feature_importances_)"
   ]
  },
  {
   "cell_type": "code",
   "execution_count": 197,
   "metadata": {},
   "outputs": [
    {
     "name": "stdout",
     "output_type": "stream",
     "text": [
      "Top 10 feature importances according to XGB\n"
     ]
    },
    {
     "data": {
      "text/plain": [
       "d2_gold    0.074773\n",
       "d5_gold    0.073498\n",
       "d1_gold    0.070968\n",
       "d4_gold    0.070331\n",
       "r2_gold    0.069308\n",
       "r1_gold    0.068161\n",
       "r3_gold    0.064302\n",
       "r4_gold    0.061345\n",
       "r5_gold    0.060972\n",
       "d3_gold    0.060448\n",
       "dtype: float64"
      ]
     },
     "execution_count": 197,
     "metadata": {},
     "output_type": "execute_result"
    }
   ],
   "source": [
    "print(\"Top 10 feature importances according to XGB\")\n",
    "fi.sort_values(ascending=False)[:10]"
   ]
  },
  {
   "cell_type": "code",
   "execution_count": 126,
   "metadata": {},
   "outputs": [
    {
     "data": {
      "image/png": "[encoded data removed]",
      "text/plain": [
       "<Figure size 432x288 with 1 Axes>"
      ]
     },
     "metadata": {},
     "output_type": "display_data"
    }
   ],
   "source": [
    "plot_y = cl_grid.cv_results_['mean_test_score']\n",
    "plot_x = [p['n_estimators']for p in cl_grid.cv_results_['params']]\n",
    "pl.plot(plot_x, plot_y, label='avg roc_auc for 5 splits')\n",
    "pl.xlabel('n estimators')\n",
    "pl.legend()\n",
    "pass"
   ]
  },
  {
   "cell_type": "markdown",
   "metadata": {},
   "source": [
    "##### Базовая версия Градиентного бустинга на сетке  поиска заняла 4min 27s на 8ми процессорах\n",
    "\n",
    "##### Лучший средний roc_auc получен на 100 естиматорах: 0.70675 "
   ]
  },
  {
   "cell_type": "markdown",
   "metadata": {},
   "source": [
    "Да - имеет смысл повышать количество эстиматоров\n",
    "\n",
    "В качестве убыстрения можно начать работать с сэмплами или пробовать укоротить глубину деревьев\n",
    "\n",
    "---"
   ]
  },
  {
   "cell_type": "markdown",
   "metadata": {},
   "source": [
    "### Логистическая регресиия\n",
    "\n",
    "`1.`\n",
    "\n",
    "Оцените качество логистической регрессии (sklearn.linear_model.LogisticRegression с L2-регуляризацией) с помощью кросс-валидации по той же схеме, которая использовалась для градиентного бустинга. Подберите при этом лучший параметр регуляризации (C). Какое наилучшее качество у вас получилось? Как оно соотносится с качеством градиентного бустинга? Чем вы можете объяснить эту разницу? Быстрее ли работает логистическая регрессия по сравнению с градиентным бустингом?"
   ]
  },
  {
   "cell_type": "code",
   "execution_count": 244,
   "metadata": {},
   "outputs": [],
   "source": [
    "def logreg_set():\n",
    "    base_cl = skl.LogisticRegression(penalty='l2')\n",
    "    grid = {'C': np.power(10., np.arange(-5, 4, 1))}\n",
    "    return base_cl, grid"
   ]
  },
  {
   "cell_type": "code",
   "execution_count": 245,
   "metadata": {},
   "outputs": [],
   "source": [
    "X = df.loc[:, feature_cols].copy()\n",
    "y = df.loc[:, y_col].copy()"
   ]
  },
  {
   "cell_type": "code",
   "execution_count": 246,
   "metadata": {},
   "outputs": [
    {
     "name": "stdout",
     "output_type": "stream",
     "text": [
      "CPU times: user 11.5 s, sys: 444 ms, total: 12 s\n",
      "Wall time: 52.3 s\n"
     ]
    }
   ],
   "source": [
    "%%time\n",
    "base_cl, param_grid = logreg_set()\n",
    "lr_pipeline = pp.Pipeline(steps =[\n",
    " ('standard_scaler', skp.StandardScaler()),\n",
    " ('grid_search', ms.GridSearchCV(base_cl, param_grid, cv = ms.KFold(n_splits=5, shuffle=True),\n",
    "                           scoring='roc_auc', refit=True, n_jobs=4))\n",
    "])\n",
    "lr_pipeline.fit(X, y)"
   ]
  },
  {
   "cell_type": "code",
   "execution_count": 248,
   "metadata": {},
   "outputs": [
    {
     "data": {
      "text/plain": [
       "({'C': 0.01}, 0.716461419269333)"
      ]
     },
     "execution_count": 248,
     "metadata": {},
     "output_type": "execute_result"
    }
   ],
   "source": [
    "lr_pipeline.named_steps['grid_search'].best_params_,\\\n",
    "lr_pipeline.named_steps['grid_search'].best_score_"
   ]
  },
  {
   "cell_type": "markdown",
   "metadata": {},
   "source": [
    "- Логистическая регрессия обучается на много быстрее градиентного бустина, из за более простой схемы оптимизации целевой функции\n",
    "\n",
    "- Наилучшие метрики полученные на l2 регуляризации при C = 0.01\n",
    "  \n",
    "  roc_auc: 0.71646\n",
    "  \n",
    "  Это превосходит метрики градиентного бустинга даже при числе классификаторов 100\n",
    "  \n",
    "- Если в пространстве признаков значения хорошо отделимы одной гиперплоскостью, то логистическая регресия будет работать лучше градиентного бустинга - для которого линейно разделимые пространства более сложная зажадача чем для линейной регрессии. Видимо данных датасет обладает именно таким свойством\n",
    "\n",
    "---"
   ]
  },
  {
   "cell_type": "markdown",
   "metadata": {},
   "source": [
    "`2.` Среди признаков в выборке есть категориальные, которые мы использовали как числовые, что вряд ли является хорошей идеей. Категориальных признаков в этой задаче одиннадцать: lobby_type и r1_hero, r2_hero, ..., r5_hero, d1_hero, d2_hero, ..., d5_hero. Уберите их из выборки, и проведите кросс-валидацию для логистической регрессии на новой выборке с подбором лучшего параметра регуляризации. Изменилось ли качество? Чем вы можете это объяснить?"
   ]
  },
  {
   "cell_type": "code",
   "execution_count": 249,
   "metadata": {},
   "outputs": [
    {
     "data": {
      "text/plain": [
       "['r1_hero',\n",
       " 'r2_hero',\n",
       " 'r3_hero',\n",
       " 'r4_hero',\n",
       " 'r5_hero',\n",
       " 'd1_hero',\n",
       " 'd2_hero',\n",
       " 'd3_hero',\n",
       " 'd4_hero',\n",
       " 'd5_hero',\n",
       " 'lobby_type']"
      ]
     },
     "execution_count": 249,
     "metadata": {},
     "output_type": "execute_result"
    }
   ],
   "source": [
    "cat_feature_cols = [c for c in df.columns if c.endswith('_hero')] + ['lobby_type'] \n",
    "cat_feature_cols"
   ]
  },
  {
   "cell_type": "code",
   "execution_count": 250,
   "metadata": {},
   "outputs": [],
   "source": [
    "cat_free_cols = list(set.difference(set(feature_cols), set(cat_feature_cols)))\n",
    "X_cat_free = df.loc[:, cat_feature_cols].copy()\n",
    "y = df.loc[:, y_col].copy()"
   ]
  },
  {
   "cell_type": "code",
   "execution_count": 251,
   "metadata": {},
   "outputs": [
    {
     "name": "stdout",
     "output_type": "stream",
     "text": [
      "CPU times: user 1.18 s, sys: 136 ms, total: 1.31 s\n",
      "Wall time: 3.98 s\n"
     ]
    }
   ],
   "source": [
    "%%time\n",
    "base_cl, param_grid = logreg_set()\n",
    "lr_pipeline_2 = pp.Pipeline(steps =[\n",
    " ('standard_scaler', skp.StandardScaler()),\n",
    " ('grid_search', ms.GridSearchCV(base_cl, param_grid, cv = ms.KFold(n_splits=5, shuffle=True),\n",
    "                           scoring='roc_auc', refit=True, n_jobs=4))\n",
    "])\n",
    "lr_pipeline_2.fit(X_cat_free, y)"
   ]
  },
  {
   "cell_type": "code",
   "execution_count": 252,
   "metadata": {},
   "outputs": [
    {
     "data": {
      "text/plain": [
       "({'C': 1e-05}, 0.5052742819422704)"
      ]
     },
     "execution_count": 252,
     "metadata": {},
     "output_type": "execute_result"
    }
   ],
   "source": [
    "lr_pipeline_2.named_steps['grid_search'].best_params_,\\\n",
    "lr_pipeline_2.named_steps['grid_search'].best_score_"
   ]
  },
  {
   "cell_type": "markdown",
   "metadata": {},
   "source": [
    "- Качество Логрегрессии упало до уровня случайного подкидываения монетки, то есть roc-auc = 0.5 \n",
    "\n",
    "- Очевидно данные категориальные признаки являются самыми ключевыми для принятия решения\n",
    "\n",
    "---"
   ]
  },
  {
   "cell_type": "markdown",
   "metadata": {},
   "source": [
    "`3.` На предыдущем шаге мы исключили из выборки признаки rM_hero и dM_hero, которые показывают, какие именно герои играли за каждую команду. Это важные признаки — герои имеют разные характеристики, и некоторые из них выигрывают чаще, чем другие. Выясните из данных, сколько различных идентификаторов героев существует в данной игре (вам может пригодиться фукнция unique или value_counts)"
   ]
  },
  {
   "cell_type": "code",
   "execution_count": 255,
   "metadata": {},
   "outputs": [],
   "source": [
    "hero_cols = [c for c in cat_feature_cols if c != 'lobby_type']\n",
    "hero_ids = np.unique(np.ravel(df.loc[:, hero_cols].values))"
   ]
  },
  {
   "cell_type": "code",
   "execution_count": 260,
   "metadata": {},
   "outputs": [
    {
     "data": {
      "text/plain": [
       "108"
      ]
     },
     "execution_count": 260,
     "metadata": {},
     "output_type": "execute_result"
    }
   ],
   "source": [
    "len(hero_ids)"
   ]
  },
  {
   "cell_type": "markdown",
   "metadata": {},
   "source": [
    "- В датасете было замечено 108 различных героев\n",
    "\n",
    "- Герои пронумерованы числами от 1 до 112 есть пропуски,\n",
    "например в датасете отсутствует герой с номером 107\n",
    "\n",
    "- То есть можно сказать что всего есть 112 героев\n",
    "\n",
    "---"
   ]
  },
  {
   "cell_type": "markdown",
   "metadata": {},
   "source": [
    "`4.` Воспользуемся подходом \"мешок слов\" для кодирования информации о героях. Пусть всего в игре имеет N различных героев. Сформируем N признаков, при этом i-й будет равен нулю, если i-й герой не участвовал в матче; единице, если i-й герой играл за команду Radiant; минус единице, если i-й герой играл за команду Dire. Ниже вы можете найти код, который выполняет данной преобразование. Добавьте полученные признаки к числовым, которые вы использовали во втором пункте данного этапа."
   ]
  },
  {
   "cell_type": "code",
   "execution_count": 261,
   "metadata": {},
   "outputs": [],
   "source": [
    "N = 112\n",
    "X_pick = np.zeros((df.shape[0], N))\n",
    "for i, match_id in enumerate(df.index):\n",
    "    for p in range(5):\n",
    "        X_pick[i, df.ix[match_id, 'r%d_hero' % (p+1)]-1] = 1\n",
    "        X_pick[i, df.ix[match_id, 'd%d_hero' % (p+1)]-1] = -1"
   ]
  },
  {
   "cell_type": "code",
   "execution_count": 275,
   "metadata": {},
   "outputs": [],
   "source": [
    "X_onehot = np.hstack([df.loc[:, cat_free_cols].values, X_pick])"
   ]
  },
  {
   "cell_type": "markdown",
   "metadata": {},
   "source": [
    "`5.` Проведите кросс-валидацию для логистической регрессии на новой выборке с подбором лучшего параметра регуляризации. Какое получилось качество? Улучшилось ли оно? Чем вы можете это объяснить?"
   ]
  },
  {
   "cell_type": "code",
   "execution_count": 277,
   "metadata": {},
   "outputs": [
    {
     "name": "stdout",
     "output_type": "stream",
     "text": [
      "CPU times: user 20.9 s, sys: 696 ms, total: 21.6 s\n",
      "Wall time: 1min 28s\n"
     ]
    }
   ],
   "source": [
    "%%time\n",
    "base_cl, param_grid = logreg_set()\n",
    "lr_pipeline_3 = pp.Pipeline(steps =[\n",
    " ('standard_scaler', skp.StandardScaler()),\n",
    " ('grid_search', ms.GridSearchCV(base_cl, param_grid, cv = ms.KFold(n_splits=5, shuffle=True),\n",
    "                           scoring='roc_auc', refit=True, n_jobs=4))\n",
    "])\n",
    "lr_pipeline_3.fit(X_onehot, y)"
   ]
  },
  {
   "cell_type": "code",
   "execution_count": 278,
   "metadata": {},
   "outputs": [
    {
     "data": {
      "text/plain": [
       "({'C': 0.01}, 0.7519025832375034)"
      ]
     },
     "execution_count": 278,
     "metadata": {},
     "output_type": "execute_result"
    }
   ],
   "source": [
    "lr_pipeline_3.named_steps['grid_search'].best_params_,\\\n",
    "lr_pipeline_3.named_steps['grid_search'].best_score_"
   ]
  },
  {
   "cell_type": "markdown",
   "metadata": {},
   "source": [
    "- Мешок слов дал позитивный прирост для roc_auc показателей лог регрессии\n",
    "  и показал самый высокий результат\n",
    "  \n",
    "- One-hot обработка категориальных фичей очень распространена среди линейных можелей так как имеет свойство линеаризовывать пространство зависимостей\n",
    "\n",
    "---"
   ]
  },
  {
   "cell_type": "markdown",
   "metadata": {},
   "source": [
    "`6.` Постройте предсказания вероятностей победы команды Radiant для тестовой выборки с помощью лучшей из изученных моделей (лучшей с точки зрения AUC-ROC на кросс-валидации). Убедитесь, что предсказанные вероятности адекватные — находятся на отрезке [0, 1], не совпадают между собой (т.е. что модель не получилась константной)."
   ]
  },
  {
   "cell_type": "code",
   "execution_count": 284,
   "metadata": {},
   "outputs": [],
   "source": [
    "N = 112\n",
    "X_pick_ho = np.zeros((df_holdout.shape[0], N))\n",
    "for i, match_id in enumerate(df_holdout.index):\n",
    "    for p in range(5):\n",
    "        X_pick_ho[i, df_holdout.loc[match_id, 'r%d_hero' % (p+1)]-1] = 1\n",
    "        X_pick_ho[i, df_holdout.loc[match_id, 'd%d_hero' % (p+1)]-1] = -1"
   ]
  },
  {
   "cell_type": "code",
   "execution_count": 287,
   "metadata": {},
   "outputs": [],
   "source": [
    "X_ho_onehot = np.hstack([df_holdout.loc[:, cat_free_cols].values, X_pick_ho])"
   ]
  },
  {
   "cell_type": "code",
   "execution_count": 290,
   "metadata": {},
   "outputs": [],
   "source": [
    "pred = lr_pipeline_3.predict_proba(X_ho_onehot)[:,1]"
   ]
  },
  {
   "cell_type": "code",
   "execution_count": 301,
   "metadata": {},
   "outputs": [
    {
     "data": {
      "text/plain": [
       "('0.0085', '0.9963')"
      ]
     },
     "execution_count": 301,
     "metadata": {},
     "output_type": "execute_result"
    }
   ],
   "source": [
    "\"%.4f\"  % min(pred), \"%.4f\"  %  max(pred)"
   ]
  },
  {
   "cell_type": "code",
   "execution_count": 294,
   "metadata": {},
   "outputs": [
    {
     "name": "stderr",
     "output_type": "stream",
     "text": [
      "/opt/conda/lib/python3.6/site-packages/matplotlib/axes/_axes.py:6462: UserWarning: The 'normed' kwarg is deprecated, and has been replaced by the 'density' kwarg.\n",
      "  warnings.warn(\"The 'normed' kwarg is deprecated, and has been \"\n"
     ]
    },
    {
     "data": {
      "image/png": "[encoded data removed]",
      "text/plain": [
       "<Figure size 432x288 with 1 Axes>"
      ]
     },
     "metadata": {},
     "output_type": "display_data"
    }
   ],
   "source": [
    "import seaborn as sns\n",
    "sns.distplot(pred)\n",
    "pass"
   ]
  }
 ],
 "metadata": {
  "kernelspec": {
   "display_name": "Python 3",
   "language": "python",
   "name": "python3"
  },
  "language_info": {
   "codemirror_mode": {
    "name": "ipython",
    "version": 3
   },
   "file_extension": ".py",
   "mimetype": "text/x-python",
   "name": "python",
   "nbconvert_exporter": "python",
   "pygments_lexer": "ipython3",
   "version": "3.6.5"
  }
 },
 "nbformat": 4,
 "nbformat_minor": 2
}
