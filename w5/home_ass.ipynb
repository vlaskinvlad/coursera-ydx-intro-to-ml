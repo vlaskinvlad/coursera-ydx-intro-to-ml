{
 "cells": [
  {
   "cell_type": "code",
   "execution_count": null,
   "metadata": {},
   "outputs": [],
   "source": [
    "%matplotlib inline"
   ]
  },
  {
   "cell_type": "code",
   "execution_count": null,
   "metadata": {},
   "outputs": [],
   "source": [
    "import tqdm\n",
    "import numpy as np\n",
    "import pandas as pd\n",
    "import matplotlib.pyplot as pl\n",
    "import sklearn.model_selection as sms\n",
    "import sklearn.cross_validation as scv\n",
    "import sklearn.metrics as skm\n",
    "import sklearn.ensemble as ske"
   ]
  },
  {
   "cell_type": "markdown",
   "metadata": {},
   "source": [
    "## t1. Random Forests"
   ]
  },
  {
   "cell_type": "code",
   "execution_count": null,
   "metadata": {},
   "outputs": [],
   "source": [
    "df = pd.read_csv(\"./abalone.csv\")"
   ]
  },
  {
   "cell_type": "code",
   "execution_count": null,
   "metadata": {},
   "outputs": [],
   "source": [
    "def sex_2_int(x):\n",
    "    return 1 if x == 'M' else (-1 if x == 'F' else 0)\n",
    "\n",
    "def prep_df(_df):\n",
    "    _z = _df.assign(Sex = _df.Sex.apply(sex_2_int))\n",
    "    return _z"
   ]
  },
  {
   "cell_type": "code",
   "execution_count": null,
   "metadata": {},
   "outputs": [],
   "source": [
    "df  = prep_df(df)\n",
    "\n",
    "X = df.loc[:, df.columns[0:-1]].values\n",
    "y = df.loc[:, df.columns[-1]].values"
   ]
  },
  {
   "cell_type": "code",
   "execution_count": null,
   "metadata": {},
   "outputs": [],
   "source": [
    "def score(cl, _X, _y) -> float:\n",
    "    cv = scv.KFold(_X.shape[0], n_folds=5, random_state=1, shuffle=True)    \n",
    "    return np.mean(ms.cross_val_score(cl, _X, _y, cv=cv,  scoring='r2', n_jobs=4))"
   ]
  },
  {
   "cell_type": "code",
   "execution_count": null,
   "metadata": {},
   "outputs": [],
   "source": [
    "n_est = range(1, 60)\n",
    "scores = [score(ske.RandomForestRegressor(n_estimators=n, n_jobs=4), X, y) for n in tqdm.tqdm_notebook(n_est)] "
   ]
  },
  {
   "cell_type": "code",
   "execution_count": null,
   "metadata": {},
   "outputs": [],
   "source": [
    "with open(\"t1.txt\", 'w') as f:\n",
    "    f.write( \"%d\" % [(n,s) for n, s in zip(n_est, scores) if s > 0.52][0][0])"
   ]
  },
  {
   "cell_type": "code",
   "execution_count": null,
   "metadata": {},
   "outputs": [],
   "source": [
    "pl.plot(n_est, scores)"
   ]
  },
  {
   "cell_type": "markdown",
   "metadata": {},
   "source": [
    "## t2. GB"
   ]
  },
  {
   "cell_type": "code",
   "execution_count": null,
   "metadata": {},
   "outputs": [],
   "source": [
    "df = pd.read_csv(\"/mnt/coursera/gbm-data.csv\")"
   ]
  },
  {
   "cell_type": "code",
   "execution_count": null,
   "metadata": {},
   "outputs": [],
   "source": [
    "y = df.loc[:, df.columns[0]].values\n",
    "X = df.loc[:, df.columns[1:]].values"
   ]
  },
  {
   "cell_type": "code",
   "execution_count": null,
   "metadata": {},
   "outputs": [],
   "source": [
    "def tt(X, y):\n",
    "    return sms.train_test_split(X, y, test_size=0.8,  random_state=241)"
   ]
  },
  {
   "cell_type": "code",
   "execution_count": null,
   "metadata": {},
   "outputs": [],
   "source": [
    "Xtr, Xte, ytr, yte = tt(X,y)"
   ]
  },
  {
   "cell_type": "code",
   "execution_count": null,
   "metadata": {},
   "outputs": [],
   "source": [
    "def get_cl(lr: float):\n",
    "    return ske.GradientBoostingClassifier(learning_rate=lr, n_estimators=250, verbose=True, random_state=241)"
   ]
  },
  {
   "cell_type": "code",
   "execution_count": null,
   "metadata": {},
   "outputs": [],
   "source": [
    "cl = get_cl(0.2).fit(Xtr, ytr)\n",
    "pass"
   ]
  },
  {
   "cell_type": "code",
   "execution_count": null,
   "metadata": {},
   "outputs": [],
   "source": [
    "def sigmoid(x):\n",
    "    return 1/(1+np.exp(-x))"
   ]
  },
  {
   "cell_type": "code",
   "execution_count": null,
   "metadata": {},
   "outputs": [],
   "source": [
    "def loss(y, y_true = yte):\n",
    "    y_pred = sigmoid(y)\n",
    "    ll = skm.log_loss(y_true=y_true, y_pred=y_pred)\n",
    "    return ll\n",
    "\n",
    "z = [(i, loss(y_val)) for i, y_val in enumerate(cl.staged_decision_function(Xte))]\n",
    "ztr = [(i, loss(y_val, y_true=ytr)) for i, y_val in enumerate(cl.staged_decision_function(Xtr))]\n",
    "\n",
    "a = min(z, key=lambda x: x[1])"
   ]
  },
  {
   "cell_type": "code",
   "execution_count": null,
   "metadata": {},
   "outputs": [],
   "source": [
    "with open(\"t2.txt\", \"w\") as f:\n",
    "    f.write(\"%.2f %d\" % (a[1], a[0]))"
   ]
  },
  {
   "cell_type": "code",
   "execution_count": null,
   "metadata": {},
   "outputs": [],
   "source": [
    "with open(\"t3.txt\", \"w\") as f:\n",
    "    f.write(\"%s\" % \"overfitting\")"
   ]
  },
  {
   "cell_type": "code",
   "execution_count": null,
   "metadata": {},
   "outputs": [],
   "source": [
    "it = [x[0] for x in z]\n",
    "ll = [x[1] for x in z]\n",
    "pl.plot(it,ll)"
   ]
  },
  {
   "cell_type": "code",
   "execution_count": null,
   "metadata": {},
   "outputs": [],
   "source": [
    "rf = ske.RandomForestClassifier(n_estimators=a[0], random_state=241).fit(Xtr, ytr)\n",
    "rf_score = skm.log_loss(yte, rf.predict_proba(Xte)[:,1])"
   ]
  },
  {
   "cell_type": "code",
   "execution_count": null,
   "metadata": {},
   "outputs": [],
   "source": [
    "with open(\"t4.txt\", \"w\") as f:\n",
    "    f.write(\"%.2f\" % rf_score)"
   ]
  }
 ],
 "metadata": {
  "kernelspec": {
   "display_name": "Python 3",
   "language": "python",
   "name": "python3"
  },
  "language_info": {
   "codemirror_mode": {
    "name": "ipython",
    "version": 3
   },
   "file_extension": ".py",
   "mimetype": "text/x-python",
   "name": "python",
   "nbconvert_exporter": "python",
   "pygments_lexer": "ipython3",
   "version": "3.6.5"
  }
 },
 "nbformat": 4,
 "nbformat_minor": 2
}
